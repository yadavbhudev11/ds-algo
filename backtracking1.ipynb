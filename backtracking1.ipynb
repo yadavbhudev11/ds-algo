{
 "cells": [
  {
   "cell_type": "code",
   "execution_count": 5,
   "metadata": {},
   "outputs": [],
   "source": [
    "#Gray code"
   ]
  },
  {
   "cell_type": "code",
   "execution_count": 1,
   "metadata": {},
   "outputs": [],
   "source": [
    "ans = [0,1]\n",
    "def gray(i,N):\n",
    "    if(i == N-1):\n",
    "        return\n",
    "    gray(i+1,N)\n",
    "    for x in ans[::-1]:\n",
    "        ans.append(x+(1 << (N-i)))"
   ]
  },
  {
   "cell_type": "code",
   "execution_count": 2,
   "metadata": {},
   "outputs": [],
   "source": [
    "gray(0,3)"
   ]
  },
  {
   "cell_type": "code",
   "execution_count": 4,
   "metadata": {},
   "outputs": [
    {
     "data": {
      "text/plain": [
       "[0, 1, 5, 4, 12, 13, 9, 8]"
      ]
     },
     "execution_count": 4,
     "metadata": {},
     "output_type": "execute_result"
    }
   ],
   "source": [
    "ans"
   ]
  },
  {
   "cell_type": "code",
   "execution_count": 3,
   "metadata": {},
   "outputs": [],
   "source": [
    "#Sudoku"
   ]
  },
  {
   "cell_type": "code",
   "execution_count": 6,
   "metadata": {},
   "outputs": [],
   "source": [
    "sr = [ [False] * 10 for i in range(9)]\n",
    "sc = [ [False] * 10 for i in range(9)]\n",
    "sb = [ [False] * 10 for i in range(9)]\n",
    "\n",
    "f = False\n",
    "def sudoku(ci,ts):\n",
    "    global f\n",
    "    global done\n",
    "    global ans\n",
    "    if(ci==81):\n",
    "        print(ts)\n",
    "        done = True\n",
    "        ans = list(map(list, ts))\n",
    "        return\n",
    "    \n",
    "    i = int(ci/9)\n",
    "    j = ci%9\n",
    "    block = int((int(i/3)*3)+int(j/3))\n",
    "    if(ci == 9 and f==False):\n",
    "        print(i,j,block)\n",
    "    if not done:\n",
    "        for k in range(1,10):\n",
    "            if(ci == 9 and f==False):\n",
    "                print(ts)\n",
    "                print(ts[i][j],sr[i][k] == False,sc[j][k] == False,sb[block][k])\n",
    "                f=True\n",
    "                \n",
    "            if ts[i][j] == 0 and sr[i][k] == False and sc[j][k] == False and sb[block][k] == False :\n",
    "                sr[i][k] = True\n",
    "                sc[j][k] = True\n",
    "                sb[block][k] = True\n",
    "                \n",
    "                ts[i][j] = k\n",
    "                sudoku(ci+1,ts)\n",
    "                \n",
    "                #if not done:\n",
    "                sr[i][k] = False\n",
    "                sc[j][k] = False\n",
    "                sb[block][k] = False\n",
    "                ts[i][j] = 0"
   ]
  },
  {
   "cell_type": "code",
   "execution_count": 7,
   "metadata": {},
   "outputs": [],
   "source": [
    "temp =  [ [0]*9 for i in range(9)]\n",
    "done = False\n",
    "ans = []"
   ]
  },
  {
   "cell_type": "code",
   "execution_count": 8,
   "metadata": {},
   "outputs": [
    {
     "name": "stdout",
     "output_type": "stream",
     "text": [
      "1 0 0\n",
      "[[1, 2, 3, 4, 5, 6, 7, 8, 9], [0, 0, 0, 0, 0, 0, 0, 0, 0], [0, 0, 0, 0, 0, 0, 0, 0, 0], [0, 0, 0, 0, 0, 0, 0, 0, 0], [0, 0, 0, 0, 0, 0, 0, 0, 0], [0, 0, 0, 0, 0, 0, 0, 0, 0], [0, 0, 0, 0, 0, 0, 0, 0, 0], [0, 0, 0, 0, 0, 0, 0, 0, 0], [0, 0, 0, 0, 0, 0, 0, 0, 0]]\n",
      "0 True False True\n",
      "[[1, 2, 3, 4, 5, 6, 7, 8, 9], [4, 5, 6, 7, 8, 9, 1, 2, 3], [7, 8, 9, 1, 2, 3, 4, 5, 6], [2, 1, 4, 3, 6, 5, 8, 9, 7], [3, 6, 5, 8, 9, 7, 2, 1, 4], [8, 9, 7, 2, 1, 4, 3, 6, 5], [5, 3, 1, 6, 4, 2, 9, 7, 8], [6, 4, 2, 9, 7, 8, 5, 3, 1], [9, 7, 8, 5, 3, 1, 6, 4, 2]]\n"
     ]
    }
   ],
   "source": [
    "sudoku(0,temp)"
   ]
  },
  {
   "cell_type": "code",
   "execution_count": 9,
   "metadata": {},
   "outputs": [],
   "source": [
    "#Nqueen"
   ]
  },
  {
   "cell_type": "code",
   "execution_count": 36,
   "metadata": {},
   "outputs": [],
   "source": [
    "def nqueen(N,row,A):\n",
    "    if(row == N):\n",
    "        ans.append(list(map(list,A)))\n",
    "        return\n",
    "    for col in range(N):\n",
    "        if(1 not in [C[col], X[col+row], Y[col-row+N]]):\n",
    "            C[col] = 1\n",
    "            X[col+row] = 1\n",
    "            Y[col-row+N] = 1\n",
    "            A[row][col] = 1\n",
    "            nqueen(N,row+1,A)\n",
    "            \n",
    "            C[col] = 0\n",
    "            X[col+row] = 0\n",
    "            Y[col-row+N] = 0\n",
    "            A[row][col] = 0"
   ]
  },
  {
   "cell_type": "code",
   "execution_count": 37,
   "metadata": {},
   "outputs": [],
   "source": [
    "N = 4\n",
    "row=0\n",
    "ans=[]\n",
    "C = [0]*N\n",
    "X = [0]*2*N\n",
    "Y = [0]*2*N\n",
    "A = [ [0]*N for i in range(N)]\n",
    "nqueen(N,row,A)"
   ]
  },
  {
   "cell_type": "code",
   "execution_count": 38,
   "metadata": {},
   "outputs": [
    {
     "data": {
      "text/plain": [
       "[[[0, 1, 0, 0], [0, 0, 0, 1], [1, 0, 0, 0], [0, 0, 1, 0]],\n",
       " [[0, 0, 1, 0], [1, 0, 0, 0], [0, 0, 0, 1], [0, 1, 0, 0]]]"
      ]
     },
     "execution_count": 38,
     "metadata": {},
     "output_type": "execute_result"
    }
   ],
   "source": [
    "ans"
   ]
  },
  {
   "cell_type": "code",
   "execution_count": 39,
   "metadata": {},
   "outputs": [],
   "source": [
    "#Unique Path"
   ]
  },
  {
   "cell_type": "code",
   "execution_count": 89,
   "metadata": {},
   "outputs": [],
   "source": [
    "A = [   [1, 0, 0, 0],\n",
    "        [0, 0, 0, 0],\n",
    "        [0, 0, 2, -1]   ]"
   ]
  },
  {
   "cell_type": "code",
   "execution_count": 94,
   "metadata": {},
   "outputs": [],
   "source": [
    "A1 = [   [0, 1],\n",
    "        [2, 0]    ]"
   ]
  },
  {
   "cell_type": "code",
   "execution_count": 90,
   "metadata": {},
   "outputs": [],
   "source": [
    "zeroes = 0\n",
    "for i in A:\n",
    "    for j in i:\n",
    "        if(j==0):\n",
    "            zeroes += 1"
   ]
  },
  {
   "cell_type": "code",
   "execution_count": 91,
   "metadata": {},
   "outputs": [],
   "source": [
    "def uniquePath(i, j, A,zero):\n",
    "    global count\n",
    "    N = len(A)\n",
    "    M= len(A[0])\n",
    "    \n",
    "    if(A[i][j] == 2):\n",
    "        if(zero==zeroes+1):\n",
    "            print(\"hello\")\n",
    "            count += 1\n",
    "        return\n",
    "    A[i][j] = -1\n",
    "    if(i<N-1 and A[i+1][j] not in [-1,1]):\n",
    "        #print(\"1\")\n",
    "        uniquePath(i+1, j, A,zero+1)\n",
    "\n",
    "    if(j<M-1 and A[i][j+1] not in [-1,1]):\n",
    "        #print(\"2\")\n",
    "        uniquePath(i, j+1, A,zero+1)\n",
    "    if(i>0 and A[i-1][j] not in [-1,1]):\n",
    "        uniquePath(i-1, j, A,zero+1)\n",
    "    if(j>0 and A[i][j-1] not in [-1,1]):\n",
    "        uniquePath(i, j-1, A,zero+1)\n",
    "    \n",
    "    A[i][j] = 0"
   ]
  },
  {
   "cell_type": "code",
   "execution_count": 95,
   "metadata": {},
   "outputs": [],
   "source": [
    "count = 0\n",
    "uniquePath(0,0,A1,0)"
   ]
  },
  {
   "cell_type": "code",
   "execution_count": 96,
   "metadata": {},
   "outputs": [
    {
     "data": {
      "text/plain": [
       "0"
      ]
     },
     "execution_count": 96,
     "metadata": {},
     "output_type": "execute_result"
    }
   ],
   "source": [
    "count"
   ]
  },
  {
   "cell_type": "code",
   "execution_count": 97,
   "metadata": {},
   "outputs": [],
   "source": [
    "#dial pad"
   ]
  },
  {
   "cell_type": "code",
   "execution_count": 1,
   "metadata": {},
   "outputs": [],
   "source": [
    "letter = ['0','1','abc','def','ghi','jkl','mno','pqrs','tuv','wxyz']"
   ]
  },
  {
   "cell_type": "code",
   "execution_count": 2,
   "metadata": {},
   "outputs": [],
   "source": [
    "def dialpad(S,i,A):\n",
    "    if(i == len(S)):\n",
    "        print(A)\n",
    "        return\n",
    "    \n",
    "    for j in letter[int(S[i])]:\n",
    "        dialpad(S,i+1,A+j)"
   ]
  },
  {
   "cell_type": "code",
   "execution_count": 3,
   "metadata": {},
   "outputs": [
    {
     "name": "stdout",
     "output_type": "stream",
     "text": [
      "1ad\n",
      "1ae\n",
      "1af\n",
      "1bd\n",
      "1be\n",
      "1bf\n",
      "1cd\n",
      "1ce\n",
      "1cf\n"
     ]
    }
   ],
   "source": [
    "dialpad('123',0,'')"
   ]
  },
  {
   "cell_type": "code",
   "execution_count": null,
   "metadata": {},
   "outputs": [],
   "source": []
  }
 ],
 "metadata": {
  "kernelspec": {
   "display_name": "Python 3",
   "language": "python",
   "name": "python3"
  },
  "language_info": {
   "codemirror_mode": {
    "name": "ipython",
    "version": 3
   },
   "file_extension": ".py",
   "mimetype": "text/x-python",
   "name": "python",
   "nbconvert_exporter": "python",
   "pygments_lexer": "ipython3",
   "version": "3.8.5"
  }
 },
 "nbformat": 4,
 "nbformat_minor": 4
}
