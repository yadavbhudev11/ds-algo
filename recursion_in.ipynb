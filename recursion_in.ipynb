{
 "cells": [
  {
   "cell_type": "code",
   "execution_count": null,
   "metadata": {},
   "outputs": [],
   "source": [
    "def add(a,n):\n",
    "    if(n==1):\n",
    "        return a\n",
    "    return a + add(a,n-1)"
   ]
  },
  {
   "cell_type": "code",
   "execution_count": null,
   "metadata": {},
   "outputs": [],
   "source": [
    "add(20,3)"
   ]
  },
  {
   "cell_type": "code",
   "execution_count": 1,
   "metadata": {},
   "outputs": [],
   "source": [
    "def tail_add(a,n,result):\n",
    "    if n==0:\n",
    "        return result\n",
    "    return tail_add(a,n-1,a+result)"
   ]
  },
  {
   "cell_type": "code",
   "execution_count": 3,
   "metadata": {},
   "outputs": [
    {
     "data": {
      "text/plain": [
       "2000"
      ]
     },
     "execution_count": 3,
     "metadata": {},
     "output_type": "execute_result"
    }
   ],
   "source": [
    "tail_add(2,1000,0)"
   ]
  },
  {
   "cell_type": "code",
   "execution_count": null,
   "metadata": {},
   "outputs": [],
   "source": [
    "tail_add(20,3,0)"
   ]
  },
  {
   "cell_type": "code",
   "execution_count": null,
   "metadata": {},
   "outputs": [],
   "source": [
    "tail_add(5,-1,0)"
   ]
  },
  {
   "cell_type": "code",
   "execution_count": 4,
   "metadata": {},
   "outputs": [],
   "source": [
    "ans=[]\n",
    "def perm(arr, curr_index):\n",
    "    \n",
    "    if(curr_index == len(arr)):\n",
    "        print(arr,curr_index)\n",
    "        ans.append(arr.copy())\n",
    "        return\n",
    "    s = []\n",
    "    for i in range(curr_index,len(arr)):\n",
    "        if(arr[i] not in s):\n",
    "            arr[curr_index], arr[i] = arr[i], arr[curr_index]\n",
    "            perm(arr, curr_index+1)\n",
    "            arr[curr_index], arr[i] = arr[i], arr[curr_index]\n",
    "            s.append(arr[i])"
   ]
  },
  {
   "cell_type": "code",
   "execution_count": 6,
   "metadata": {},
   "outputs": [
    {
     "name": "stdout",
     "output_type": "stream",
     "text": [
      "[1, 2, 1] 3\n",
      "[1, 1, 2] 3\n",
      "[2, 1, 1] 3\n"
     ]
    }
   ],
   "source": [
    "a = perm([1,2,1],0)"
   ]
  },
  {
   "cell_type": "code",
   "execution_count": null,
   "metadata": {},
   "outputs": [],
   "source": [
    "ans"
   ]
  },
  {
   "cell_type": "code",
   "execution_count": null,
   "metadata": {},
   "outputs": [],
   "source": [
    "ans=[]\n",
    "def subset(a,ci,sub):\n",
    "    print(sub)\n",
    "    if(ci == len(a)):\n",
    "        ans.append(sub)\n",
    "        return\n",
    "    print(a[ci])\n",
    "    c1 = sub.copy()\n",
    "    c2 = sub.copy()\n",
    "    c1.append(a[ci])\n",
    "    subset(a,ci+1,c2)\n",
    "    subset(a,ci+1,c1)"
   ]
  },
  {
   "cell_type": "code",
   "execution_count": null,
   "metadata": {},
   "outputs": [],
   "source": [
    "subset([1,2,3],0,[])"
   ]
  },
  {
   "cell_type": "code",
   "execution_count": null,
   "metadata": {},
   "outputs": [],
   "source": [
    "sorted(ans)"
   ]
  },
  {
   "cell_type": "code",
   "execution_count": null,
   "metadata": {},
   "outputs": [],
   "source": [
    "ans"
   ]
  },
  {
   "cell_type": "code",
   "execution_count": 15,
   "metadata": {},
   "outputs": [],
   "source": [
    "ans = []\n",
    "def sb(a,ci,sub):\n",
    "    ans.append(sub)\n",
    "    \n",
    "    for i in range(ci, len(a)):\n",
    "        x = sub.copy()\n",
    "        x.append(a[i])\n",
    "        sb(a,i+1,x)"
   ]
  },
  {
   "cell_type": "code",
   "execution_count": 16,
   "metadata": {},
   "outputs": [],
   "source": [
    "sb([1,2,3,3],0,[])"
   ]
  },
  {
   "cell_type": "code",
   "execution_count": 17,
   "metadata": {},
   "outputs": [
    {
     "data": {
      "text/plain": [
       "[[],\n",
       " [1],\n",
       " [1, 2],\n",
       " [1, 2, 3],\n",
       " [1, 2, 3, 3],\n",
       " [1, 2, 3],\n",
       " [1, 3],\n",
       " [1, 3, 3],\n",
       " [1, 3],\n",
       " [2],\n",
       " [2, 3],\n",
       " [2, 3, 3],\n",
       " [2, 3],\n",
       " [3],\n",
       " [3, 3],\n",
       " [3]]"
      ]
     },
     "execution_count": 17,
     "metadata": {},
     "output_type": "execute_result"
    }
   ],
   "source": [
    "ans"
   ]
  },
  {
   "cell_type": "code",
   "execution_count": null,
   "metadata": {},
   "outputs": [],
   "source": [
    "ans = []\n",
    "def sa(A,ci,sub):\n",
    "    if(sum(sub) == 33):\n",
    "        if sub not in ans:\n",
    "            ans.append(sub.copy())\n",
    "        return\n",
    "    if(ci == len(A)):\n",
    "        return\n",
    "    c1 = sub.copy()\n",
    "    c2 = sub.copy()\n",
    "    c1.append(A[ci])\n",
    "    sa(A,ci+1,c1)\n",
    "    sa(A,ci+1,c2)"
   ]
  },
  {
   "cell_type": "code",
   "execution_count": null,
   "metadata": {},
   "outputs": [],
   "source": [
    "a= [ 15, 8, 15, 10, 19, 18, 10, 3, 11, 7, 17 ]\n",
    "a = sorted(a)\n",
    "a"
   ]
  },
  {
   "cell_type": "code",
   "execution_count": null,
   "metadata": {},
   "outputs": [],
   "source": [
    "sa(a,0,[])"
   ]
  },
  {
   "cell_type": "code",
   "execution_count": 1,
   "metadata": {},
   "outputs": [],
   "source": [
    "#combinations"
   ]
  },
  {
   "cell_type": "code",
   "execution_count": 8,
   "metadata": {},
   "outputs": [],
   "source": [
    "def combinations(r,n,i,arr,j):\n",
    "    if (j==r):\n",
    "        print(arr)\n",
    "        return\n",
    "    if(i==n):\n",
    "        return\n",
    "    \n",
    "    arr[j] = i+1\n",
    "    \n",
    "    combinations(r,n,i+1,arr,j+1)\n",
    "    combinations(r,n,i+1,arr,j)"
   ]
  },
  {
   "cell_type": "code",
   "execution_count": 9,
   "metadata": {},
   "outputs": [
    {
     "name": "stdout",
     "output_type": "stream",
     "text": [
      "[1, 2]\n",
      "[1, 3]\n",
      "[1, 4]\n",
      "[2, 3]\n",
      "[2, 4]\n",
      "[3, 4]\n"
     ]
    }
   ],
   "source": [
    "n=4\n",
    "r=2\n",
    "arr = [0]*r\n",
    "combinations(r,n,0,arr,0)"
   ]
  },
  {
   "cell_type": "code",
   "execution_count": 3,
   "metadata": {},
   "outputs": [
    {
     "name": "stdout",
     "output_type": "stream",
     "text": [
      "0 0\n",
      "0 1\n",
      "1 1\n",
      "1 2\n",
      "2 2\n",
      "2 3\n"
     ]
    }
   ],
   "source": [
    "n=4\n",
    "r=2\n",
    "for i in range(n-r+1):\n",
    "    for j in range(i,i+r):\n",
    "        print(i,j)"
   ]
  },
  {
   "cell_type": "code",
   "execution_count": null,
   "metadata": {},
   "outputs": [],
   "source": []
  }
 ],
 "metadata": {
  "kernelspec": {
   "display_name": "Python 3",
   "language": "python",
   "name": "python3"
  },
  "language_info": {
   "codemirror_mode": {
    "name": "ipython",
    "version": 3
   },
   "file_extension": ".py",
   "mimetype": "text/x-python",
   "name": "python",
   "nbconvert_exporter": "python",
   "pygments_lexer": "ipython3",
   "version": "3.8.5"
  }
 },
 "nbformat": 4,
 "nbformat_minor": 4
}
