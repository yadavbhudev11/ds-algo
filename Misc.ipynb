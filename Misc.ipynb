{
 "cells": [
  {
   "cell_type": "code",
   "execution_count": 7,
   "metadata": {},
   "outputs": [],
   "source": [
    "s='DDIDDIID'\n",
    "final = ''\n",
    "last_i = 0\n",
    "for i in range(len(s)):\n",
    "\n",
    "    if(s[i]=='I'):\n",
    "        for j in range(i-last_i):\n",
    "            final = final+str(i-j+1)\n",
    "        last_i = i   \n",
    "    elif(i == len(s)-1):\n",
    "        for j in range(i-last_i):\n",
    "            final = final+str(i-j+1)"
   ]
  },
  {
   "cell_type": "code",
   "execution_count": 8,
   "metadata": {},
   "outputs": [
    {
     "data": {
      "text/plain": [
       "'3265478'"
      ]
     },
     "execution_count": 8,
     "metadata": {},
     "output_type": "execute_result"
    }
   ],
   "source": [
    "final"
   ]
  },
  {
   "cell_type": "code",
   "execution_count": null,
   "metadata": {},
   "outputs": [],
   "source": []
  },
  {
   "cell_type": "code",
   "execution_count": null,
   "metadata": {},
   "outputs": [],
   "source": [
    "String al = \"\";\n",
    "        Stack<Integer> stk = new Stack<>();\n",
    "        int n = pattern.length();\n",
    "        for(int i=0; i<=n; i++) {\n",
    "            stk.push(i+1);\n",
    "            if(i == n || pattern.charAt(i) == 'N'){\n",
    "                while(!stk.empty()) {\n",
    "                    al += String.valueOf(stk.peek());\n",
    "                    stk.pop();\n",
    "                }\n",
    "            }     \n",
    "        }\n",
    "        // Integer.parseInt(String.join(\"\", al));\n",
    "        return Integer.parseInt(al);"
   ]
  }
 ],
 "metadata": {
  "kernelspec": {
   "display_name": "Python 3",
   "language": "python",
   "name": "python3"
  },
  "language_info": {
   "codemirror_mode": {
    "name": "ipython",
    "version": 3
   },
   "file_extension": ".py",
   "mimetype": "text/x-python",
   "name": "python",
   "nbconvert_exporter": "python",
   "pygments_lexer": "ipython3",
   "version": "3.8.5"
  }
 },
 "nbformat": 4,
 "nbformat_minor": 4
}
